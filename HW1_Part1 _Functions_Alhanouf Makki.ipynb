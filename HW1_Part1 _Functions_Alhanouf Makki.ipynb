{
 "cells": [
  {
   "cell_type": "markdown",
   "id": "a6c62138",
   "metadata": {},
   "source": [
    "<font color='blue'><h1> CSC 605 :Assignment 1 "
   ]
  },
  {
   "cell_type": "markdown",
   "id": "fd02974a",
   "metadata": {},
   "source": [
    "### Name: Alhanouf Saud Makki\n",
    "\n",
    "### Student Id: 431000020"
   ]
  },
  {
   "cell_type": "markdown",
   "id": "23b058b5",
   "metadata": {},
   "source": [
    "# Part 1"
   ]
  },
  {
   "cell_type": "markdown",
   "id": "0df5e6dc",
   "metadata": {},
   "source": [
    "<h5> 1) Write a program in three different approaches of code to create a list of ones with length 20"
   ]
  },
  {
   "cell_type": "code",
   "execution_count": 4,
   "id": "54cbac71",
   "metadata": {},
   "outputs": [
    {
     "name": "stdout",
     "output_type": "stream",
     "text": [
      "[1, 1, 1, 1, 1, 1, 1, 1, 1, 1, 1, 1, 1, 1, 1, 1, 1, 1, 1, 1]\n",
      "[1, 1, 1, 1, 1, 1, 1, 1, 1, 1, 1, 1, 1, 1, 1, 1, 1, 1, 1, 1]\n",
      "[1, 1, 1, 1, 1, 1, 1, 1, 1, 1, 1, 1, 1, 1, 1, 1, 1, 1, 1, 1]\n",
      "[1. 1. 1. 1. 1. 1. 1. 1. 1. 1. 1. 1. 1. 1. 1. 1. 1. 1. 1. 1.]\n"
     ]
    }
   ],
   "source": [
    "### write your code here- \n",
    "# approach 1\n",
    "lst=[]\n",
    "for i in range(20):\n",
    "    lst.append(1)\n",
    "print(lst)\n",
    "\n",
    "# approach 2\n",
    "lst1=[1]*20\n",
    "print(lst1)\n",
    "\n",
    "# approach 3\n",
    "import random\n",
    "randomlist=random.sample([1 for i in range(100)],20)\n",
    "print(randomlist)\n",
    "\n",
    "# approach 4\n",
    "import numpy\n",
    "print(numpy.ones(20))"
   ]
  },
  {
   "cell_type": "markdown",
   "id": "e3cd1301",
   "metadata": {},
   "source": [
    "#### 2) Convert the following function to lambda expression"
   ]
  },
  {
   "cell_type": "code",
   "execution_count": 5,
   "id": "27cdbe5b",
   "metadata": {},
   "outputs": [
    {
     "name": "stdout",
     "output_type": "stream",
     "text": [
      "['W', 'E', 'L', 'C', 'O', 'M', 'E', ' ', 'T', 'O', ' ', 'C', 'S', 'C', '6', '0', '5']\n"
     ]
    }
   ],
   "source": [
    "def toUpper(sentance):\n",
    "    lst=[]\n",
    "    for ch in sentance:\n",
    "        lst.append(ch.upper())\n",
    "    return lst\n",
    "print(toUpper('welcome to csc605'))"
   ]
  },
  {
   "cell_type": "code",
   "execution_count": 6,
   "id": "6c3528a8",
   "metadata": {},
   "outputs": [
    {
     "name": "stdout",
     "output_type": "stream",
     "text": [
      "['W', 'E', 'L', 'C', 'O', 'M', 'E', ' ', 'T', 'O', ' ', 'C', 'S', 'C', '6', '0', '5']\n"
     ]
    }
   ],
   "source": [
    "## write your code here\n",
    "s=list(map(lambda ch:ch.upper(),toUpper('welcome to csc605')))\n",
    "print(s)"
   ]
  },
  {
   "cell_type": "markdown",
   "id": "531d024f",
   "metadata": {},
   "source": [
    "#### 3) Write a function called sample that must work similar to random.sample in random package\n",
    "\n",
    "__Syntax : random.sample(sequence, k)__\n",
    "\n",
    "Parameters:\n",
    "sequence: Can be a list, tuple, string, or set.\n",
    "k: An Integer value, it specify the length of a sample.\n",
    "\n",
    "Returns: k length new list of elements chosen from the sequence."
   ]
  },
  {
   "cell_type": "code",
   "execution_count": 9,
   "id": "ada42845",
   "metadata": {},
   "outputs": [
    {
     "name": "stdout",
     "output_type": "stream",
     "text": [
      "{2, 4, 8, 12, 18}\n"
     ]
    }
   ],
   "source": [
    "## write your code her\n",
    "import random\n",
    "def sample(set1,k):\n",
    "    h=len(set1)\n",
    "    if 0<k and k<=h:\n",
    "        nweset=set()\n",
    "        for i in range(k): \n",
    "            h=random.choice(set1)\n",
    "            nweset.add(h)\n",
    "            set1.remove(h)\n",
    "    return nweset \n",
    "print(sample([2,4,6,8,10,12,14,16,18,20],5))"
   ]
  },
  {
   "cell_type": "markdown",
   "id": "c3431666",
   "metadata": {},
   "source": [
    "###### 4) Write a function called divide_dataset_into_training_and_testing as shown below that aims to split the dataset into training and testing. It must contain arugment called training_size that meet following:\n",
    "\n",
    "* If training_size  is float, should be between 0.0 and 1.0 and represent the proportion of the dataset to include in the train split. If int, represents the absolute number of train examples. "
   ]
  },
  {
   "cell_type": "code",
   "execution_count": 10,
   "id": "e0f0f417",
   "metadata": {},
   "outputs": [
    {
     "data": {
      "text/plain": [
       "((5, 6), (9, 5), (0, 4, 3, 9, 8, 2, 1, 7), (3, 7, 1, 7, 1, 5, 2, 3))"
      ]
     },
     "execution_count": 10,
     "metadata": {},
     "output_type": "execute_result"
    }
   ],
   "source": [
    "import random\n",
    "def Divide_dataset_into_training_and_testing(dataset_X, dataset_y, training_size):\n",
    "    ### write your code here\n",
    "    temp = list(zip(dataset_X, dataset_y))\n",
    "    random.shuffle(temp)\n",
    "    for i in range(training_size):\n",
    "        train = temp[0:training_size]\n",
    "        test = temp[training_size:]\n",
    "    (X_train, y_train) = zip(*train)\n",
    "    (X_test, y_test) = zip(*test)\n",
    "    if isinstance(training_size,int ):\n",
    "        pass\n",
    "    elif isinstance(training_size,float ):\n",
    "        x_train, y_train = dataset_X[0:training_size]\n",
    "        x_test, y_test = dataset_y[0:training_size:]\n",
    "    return X_train, y_train, X_test, y_test\n",
    "\n",
    "Divide_dataset_into_training_and_testing([1, 2, 3, 4, 5, 6, 7, 8, 9, 0], [2, 5, 1, 7, 9, 5, 3, 1, 7, 3], 2)"
   ]
  }
 ],
 "metadata": {
  "kernelspec": {
   "display_name": "Python 3",
   "language": "python",
   "name": "python3"
  },
  "language_info": {
   "codemirror_mode": {
    "name": "ipython",
    "version": 3
   },
   "file_extension": ".py",
   "mimetype": "text/x-python",
   "name": "python",
   "nbconvert_exporter": "python",
   "pygments_lexer": "ipython3",
   "version": "3.8.8"
  }
 },
 "nbformat": 4,
 "nbformat_minor": 5
}
